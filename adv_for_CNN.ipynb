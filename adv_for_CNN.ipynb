{
 "metadata": {
  "language_info": {
   "codemirror_mode": {
    "name": "ipython",
    "version": 3
   },
   "file_extension": ".py",
   "mimetype": "text/x-python",
   "name": "python",
   "nbconvert_exporter": "python",
   "pygments_lexer": "ipython3",
   "version": "3.7.5-final"
  },
  "orig_nbformat": 2,
  "kernelspec": {
   "name": "python3",
   "display_name": "Python 3.7.5 64-bit ('cs181': conda)",
   "metadata": {
    "interpreter": {
     "hash": "f29c3e58db6b832ed2b811c33c98e13bfb26d117f5d963aa33342c0bf84456b0"
    }
   }
  }
 },
 "nbformat": 4,
 "nbformat_minor": 2,
 "cells": [
  {
   "cell_type": "code",
   "execution_count": 3,
   "metadata": {},
   "outputs": [
    {
     "output_type": "error",
     "ename": "ModuleNotFoundError",
     "evalue": "No module named 'tensorflow'",
     "traceback": [
      "\u001b[0;31m---------------------------------------------------------------------------\u001b[0m",
      "\u001b[0;31mModuleNotFoundError\u001b[0m                       Traceback (most recent call last)",
      "\u001b[0;32m<ipython-input-3-64156d691fe5>\u001b[0m in \u001b[0;36m<module>\u001b[0;34m\u001b[0m\n\u001b[0;32m----> 1\u001b[0;31m \u001b[0;32mimport\u001b[0m \u001b[0mtensorflow\u001b[0m \u001b[0;32mas\u001b[0m \u001b[0mtf\u001b[0m\u001b[0;34m\u001b[0m\u001b[0;34m\u001b[0m\u001b[0m\n\u001b[0m",
      "\u001b[0;31mModuleNotFoundError\u001b[0m: No module named 'tensorflow'"
     ]
    }
   ],
   "source": [
    "import tensorflow as tf\n",
    "import foolbox as fb\n",
    "import foolbox.attacks as fa\n",
    "import numpy as np\n",
    "import torch\n",
    "from torchvision.datasets import MNIST\n",
    "from torch.utils.data import DataLoader"
   ]
  },
  {
   "cell_type": "code",
   "execution_count": null,
   "metadata": {},
   "outputs": [],
   "source": [
    "GPU_NUM=3\n",
    "def get_device():\n",
    "    if torch.cuda.is_available():\n",
    "        device = 'cuda:'+str(GPU_NUM)\n",
    "        print(\"using gpu %s: \" % device)\n",
    "    else:\n",
    "        device = 'cpu'\n",
    "        print(\"using cpu\")\n",
    "    return device\n",
    "device=get_device()\n",
    "\n",
    "with tf.Session() as session:\n",
    "  new_saver = tf.train.import_meta_graph('./CNN_tf_models/natural/checkpoint-24900.meta)\n",
    "  new_saver.restore(session, tf.train.latest_checkpoint('./CNN_tf_models/natural'))\n",
    "#   print(sess.run('w1:0'))\n",
    "\n",
    "\n",
    "batch_size=5\n",
    "img_transform = transforms.Compose([\n",
    "    transforms.ToTensor(),\n",
    "    transforms.Normalize([0.5], [0.5])\n",
    "])\n",
    "\n",
    "testset = MNIST('./data', transform=img_transform, download=True, train=False)\n",
    "testloader = DataLoader(testset, batch_size=batch_size, shuffle=True)\n",
    "\n",
    "for batch in testloader:\n",
    "    images, labels = batch\n",
    "    images=images.to(device)\n",
    "    labels=labels.to(device)\n",
    "    imagesVectors =torch.zeros(images.shape[0],images.shape[2]*images.shape[3],device=device)\n",
    "    # change image in images to 784 rows vector\n",
    "    imagesVectors = images.view(images.size(0), -1)\n",
    "    break"
   ]
  },
  {
   "cell_type": "code",
   "execution_count": null,
   "metadata": {},
   "outputs": [],
   "source": [
    "fmodel = fb.TensorFlowModel(session,bounds=(-1,1),device=device)\n",
    "\n",
    "clean = fb.utils.accuracy(fmodel,imagesVectors, labels)\n",
    "attack = fb.attacks.LinfFastGradientAttack()\n",
    "\n",
    "raw, clipped, is_adv = attack(fmodel,imagesVectors,labels,epsilons=0.03)\n",
    "\n",
    "np.save('pic_for_LinfFGSM.npy',torch.Tensor.cpu(clipped))\n",
    "np.save('is_adv_for_LinfFGSM',torch.Tensor.cpu(is_adv))"
   ]
  }
 ]
}